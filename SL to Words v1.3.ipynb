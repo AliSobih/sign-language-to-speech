{
 "cells": [
  {
   "cell_type": "markdown",
   "id": "392719d6",
   "metadata": {},
   "source": [
    " # Libraries"
   ]
  },
  {
   "cell_type": "code",
   "execution_count": 1,
   "id": "e9b11df2",
   "metadata": {
    "ExecuteTime": {
     "end_time": "2021-11-30T16:59:26.928169Z",
     "start_time": "2021-11-30T16:59:24.882167Z"
    }
   },
   "outputs": [],
   "source": [
    "import os\n",
    "import cv2\n",
    "import numpy as np\n",
    "import mediapipe as mp"
   ]
  },
  {
   "cell_type": "markdown",
   "id": "e8fdd3d6",
   "metadata": {},
   "source": [
    " # Keypoints using Mediapipe Holistic Model"
   ]
  },
  {
   "cell_type": "code",
   "execution_count": 2,
   "id": "27c85a48",
   "metadata": {
    "ExecuteTime": {
     "end_time": "2021-11-30T16:59:26.960165Z",
     "start_time": "2021-11-30T16:59:26.941168Z"
    }
   },
   "outputs": [],
   "source": [
    "mp_holistic = mp.solutions.holistic\n",
    "mp_drawing = mp.solutions.drawing_utils"
   ]
  },
  {
   "cell_type": "code",
   "execution_count": 3,
   "id": "2225e256",
   "metadata": {
    "ExecuteTime": {
     "end_time": "2021-11-30T16:59:31.758627Z",
     "start_time": "2021-11-30T16:59:31.737627Z"
    }
   },
   "outputs": [],
   "source": [
    "def mediapipe_detection(frame, model):\n",
    "    frame = cv2.cvtColor(frame, cv2.COLOR_BGR2RGB) # Model (Holistic) works on RGB not BGR\n",
    "#     frame.flags.writeable = False # To improve performance, optionally mark the image as not writeable to pass by reference\n",
    "    results = model.process(frame)                 # Make prediction\n",
    "#     frame.flags.writeable = True\n",
    "    frame = cv2.cvtColor(frame, cv2.COLOR_RGB2BGR)\n",
    "    return frame, results"
   ]
  },
  {
   "cell_type": "code",
   "execution_count": 4,
   "id": "33fe9bfb",
   "metadata": {
    "ExecuteTime": {
     "end_time": "2021-11-30T17:01:53.277938Z",
     "start_time": "2021-11-30T17:01:53.257944Z"
    }
   },
   "outputs": [],
   "source": [
    "def draw_landmarks(frame, model): # BGR\n",
    "    mp_drawing.draw_landmarks(frame, results.pose_landmarks, mp_holistic.POSE_CONNECTIONS,\n",
    "                             mp_drawing.DrawingSpec(color=(80, 200, 100), thickness=2, circle_radius=3),  # Points\n",
    "                             mp_drawing.DrawingSpec(color=(255, 255, 255), thickness=2, circle_radius=2) # Connection\n",
    "                             ) \n",
    "    mp_drawing.draw_landmarks(frame, results.face_landmarks, mp_holistic.FACEMESH_TESSELATION,\n",
    "                             mp_drawing.DrawingSpec(color=(255, 0, 0), thickness=1, circle_radius=1),     \n",
    "                             mp_drawing.DrawingSpec(color=(255, 255, 255), thickness=1, circle_radius=1)  \n",
    "                             )   \n",
    "    mp_drawing.draw_landmarks(frame, results.left_hand_landmarks, mp_holistic.HAND_CONNECTIONS,\n",
    "                             mp_drawing.DrawingSpec(color=(0, 0, 255), thickness=2, circle_radius=3),\n",
    "                             mp_drawing.DrawingSpec(color=(255, 255, 255), thickness=2, circle_radius=2)\n",
    "                             )    \n",
    "    mp_drawing.draw_landmarks(frame, results.right_hand_landmarks, mp_holistic.HAND_CONNECTIONS,\n",
    "                             mp_drawing.DrawingSpec(color=(0, 0, 255), thickness=2, circle_radius=3),\n",
    "                             mp_drawing.DrawingSpec(color=(255, 255, 255), thickness=2, circle_radius=2)\n",
    "                             )  "
   ]
  },
  {
   "cell_type": "code",
   "execution_count": 12,
   "id": "45f765e1",
   "metadata": {
    "ExecuteTime": {
     "end_time": "2021-11-30T01:39:23.706070Z",
     "start_time": "2021-11-30T01:39:23.685070Z"
    },
    "scrolled": true
   },
   "outputs": [
    {
     "data": {
      "text/plain": [
       "x: 0.711671\n",
       "y: 0.5568175\n",
       "z: -1.2877527\n",
       "visibility: 0.882982"
      ]
     },
     "execution_count": 12,
     "metadata": {},
     "output_type": "execute_result"
    }
   ],
   "source": [
    "results.pose_landmarks.landmark[mp_holistic.PoseLandmark.LEFT_SHOULDER]"
   ]
  },
  {
   "cell_type": "code",
   "execution_count": 18,
   "id": "ce49ad2a",
   "metadata": {
    "ExecuteTime": {
     "end_time": "2021-11-30T01:50:03.586379Z",
     "start_time": "2021-11-30T01:50:03.563407Z"
    },
    "scrolled": true
   },
   "outputs": [
    {
     "data": {
      "text/plain": [
       "[x: 0.77689016\n",
       " y: 0.57905567\n",
       " z: -1.3680867\n",
       " visibility: 0.8770314,\n",
       " x: 0.259682\n",
       " y: 0.65471905\n",
       " z: -1.4111807\n",
       " visibility: 0.9958197,\n",
       " x: 0.9277129\n",
       " y: 0.8930924\n",
       " z: -1.253278\n",
       " visibility: 0.29676133,\n",
       " x: 0.061193526\n",
       " y: 1.0089518\n",
       " z: -1.2454627\n",
       " visibility: 0.87377685,\n",
       " x: 0.9081963\n",
       " y: 1.126192\n",
       " z: -1.5884081\n",
       " visibility: 0.07053942,\n",
       " x: 0.2216248\n",
       " y: 1.3774383\n",
       " z: -1.4163444\n",
       " visibility: 0.433841,\n",
       " x: 0.91804945\n",
       " y: 1.1774061\n",
       " z: -1.6750755\n",
       " visibility: 0.05385783,\n",
       " x: 0.24441218\n",
       " y: 1.4717813\n",
       " z: -1.4658897\n",
       " visibility: 0.29870552,\n",
       " x: 0.8975908\n",
       " y: 1.1645185\n",
       " z: -1.6925739\n",
       " visibility: 0.06753253,\n",
       " x: 0.29194728\n",
       " y: 1.4232881\n",
       " z: -1.504106\n",
       " visibility: 0.36715922,\n",
       " x: 0.87636983\n",
       " y: 1.1609402\n",
       " z: -1.60068\n",
       " visibility: 0.07822117]"
      ]
     },
     "execution_count": 18,
     "metadata": {},
     "output_type": "execute_result"
    }
   ],
   "source": [
    "results.pose_landmarks.landmark[11:22]"
   ]
  },
  {
   "cell_type": "code",
   "execution_count": 5,
   "id": "5c59d7cc",
   "metadata": {
    "ExecuteTime": {
     "end_time": "2021-11-30T17:02:08.579949Z",
     "start_time": "2021-11-30T17:01:59.802486Z"
    }
   },
   "outputs": [],
   "source": [
    "cap = cv2.VideoCapture(0)\n",
    "with mp_holistic.Holistic() as holistic:\n",
    "    while True:\n",
    "        ret, frame = cap.read()\n",
    "#         frame = cv2.flip(frame,1)\n",
    "        if ret == False:\n",
    "            break\n",
    "\n",
    "        frame, results = mediapipe_detection(frame, holistic)\n",
    "        # print(results)  # <class 'mediapipe.python.solution_base.SolutionOutputs'>\n",
    "        \n",
    "        # Draw landmarks\n",
    "        draw_landmarks(frame, results)\n",
    "        \n",
    "        cv2.imshow('Esm3ni', frame)\n",
    "        key = cv2.waitKey(1)\n",
    "        if key == 27 or key == ord('q'):\n",
    "            break\n",
    "\n",
    "    cap.release()\n",
    "    cv2.destroyAllWindows()"
   ]
  },
  {
   "cell_type": "code",
   "execution_count": 32,
   "id": "19a32784",
   "metadata": {
    "ExecuteTime": {
     "end_time": "2021-11-30T02:24:50.138439Z",
     "start_time": "2021-11-30T02:24:49.840154Z"
    }
   },
   "outputs": [],
   "source": [
    "cap.release()\n",
    "cv2.destroyAllWindows()"
   ]
  },
  {
   "cell_type": "markdown",
   "id": "cee4bbf9",
   "metadata": {},
   "source": [
    " # Extract Keypoints Values"
   ]
  },
  {
   "cell_type": "code",
   "execution_count": 27,
   "id": "eed06a92",
   "metadata": {
    "ExecuteTime": {
     "end_time": "2021-11-26T08:37:39.680575Z",
     "start_time": "2021-11-26T08:37:39.652581Z"
    }
   },
   "outputs": [
    {
     "name": "stdout",
     "output_type": "stream",
     "text": [
      "468\n"
     ]
    },
    {
     "data": {
      "text/plain": [
       "1404"
      ]
     },
     "execution_count": 27,
     "metadata": {},
     "output_type": "execute_result"
    }
   ],
   "source": [
    "print(len(results.face_landmarks.landmark))\n",
    "len(results.face_landmarks.landmark)*3\n",
    "# x, y, z"
   ]
  },
  {
   "cell_type": "code",
   "execution_count": 31,
   "id": "a2e54e93",
   "metadata": {
    "ExecuteTime": {
     "end_time": "2021-11-26T08:39:30.555731Z",
     "start_time": "2021-11-26T08:39:30.531733Z"
    }
   },
   "outputs": [
    {
     "name": "stdout",
     "output_type": "stream",
     "text": [
      "21\n"
     ]
    },
    {
     "data": {
      "text/plain": [
       "63"
      ]
     },
     "execution_count": 31,
     "metadata": {},
     "output_type": "execute_result"
    }
   ],
   "source": [
    "print(len(results.right_hand_landmarks.landmark))\n",
    "len(results.right_hand_landmarks.landmark)*3\n",
    "# x, y, z"
   ]
  },
  {
   "cell_type": "code",
   "execution_count": 28,
   "id": "f560776f",
   "metadata": {
    "ExecuteTime": {
     "end_time": "2021-11-26T08:37:55.374642Z",
     "start_time": "2021-11-26T08:37:55.360660Z"
    }
   },
   "outputs": [
    {
     "name": "stdout",
     "output_type": "stream",
     "text": [
      "33\n"
     ]
    },
    {
     "data": {
      "text/plain": [
       "132"
      ]
     },
     "execution_count": 28,
     "metadata": {},
     "output_type": "execute_result"
    }
   ],
   "source": [
    "print(len(results.pose_landmarks.landmark))\n",
    "len(results.pose_landmarks.landmark)*4\n",
    "# x, y, z, visibility"
   ]
  },
  {
   "cell_type": "code",
   "execution_count": 40,
   "id": "338049d0",
   "metadata": {
    "ExecuteTime": {
     "end_time": "2021-11-30T02:27:57.489194Z",
     "start_time": "2021-11-30T02:27:57.467197Z"
    }
   },
   "outputs": [
    {
     "name": "stdout",
     "output_type": "stream",
     "text": [
      "12\n"
     ]
    },
    {
     "data": {
      "text/plain": [
       "48"
      ]
     },
     "execution_count": 40,
     "metadata": {},
     "output_type": "execute_result"
    }
   ],
   "source": [
    "print(len(results.pose_landmarks.landmark[11:23]))\n",
    "len(results.pose_landmarks.landmark[11:23])*4\n",
    "# x, y, z, visibility"
   ]
  },
  {
   "cell_type": "code",
   "execution_count": 34,
   "id": "fe70230b",
   "metadata": {
    "ExecuteTime": {
     "end_time": "2021-11-30T18:36:57.172725Z",
     "start_time": "2021-11-30T18:36:57.149726Z"
    }
   },
   "outputs": [],
   "source": [
    "def extract_keypoints(results):\n",
    "    pose = np.array( [ [res.x, res.y, res.z, res.visibility] for res in results.pose_landmarks.landmark ] ).flatten() if results.pose_landmarks else np.zeros(132)\n",
    "    face = np.array([[res.x, res.y, res.z] for res in results.face_landmarks.landmark]).flatten() if results.face_landmarks else np.zeros(1404)\n",
    "    lefthand = np.array([[res.x, res.y, res.z] for res in results.left_hand_landmarks.landmark]).flatten() if results.left_hand_landmarks else np.zeros(63)\n",
    "    righthand = np.array([[res.x, res.y, res.z] for res in results.right_hand_landmarks.landmark]).flatten() if results.right_hand_landmarks else np.zeros(63)\n",
    "    return np.concatenate([pose, face, lefthand, righthand])"
   ]
  },
  {
   "cell_type": "code",
   "execution_count": 51,
   "id": "e3df68f9",
   "metadata": {
    "ExecuteTime": {
     "end_time": "2021-11-24T19:46:35.747858Z",
     "start_time": "2021-11-24T19:46:35.728834Z"
    }
   },
   "outputs": [
    {
     "data": {
      "text/plain": [
       "1662"
      ]
     },
     "execution_count": 51,
     "metadata": {},
     "output_type": "execute_result"
    }
   ],
   "source": [
    "   132 + 1404 + 2 * 63\n",
    "# pose + face + 2 * hand"
   ]
  },
  {
   "cell_type": "code",
   "execution_count": null,
   "id": "4e85a20a",
   "metadata": {
    "ExecuteTime": {
     "end_time": "2021-11-30T17:02:36.569710Z",
     "start_time": "2021-11-30T17:02:36.546707Z"
    }
   },
   "outputs": [],
   "source": [
    "def extract_keypoints(results):\n",
    "    pose = np.array( [ [res.x, res.y, res.z, res.visibility] for res in results.pose_landmarks.landmark[11:23] ] ).flatten() if results.pose_landmarks else np.zeros(48)\n",
    "    face = np.array([[res.x, res.y, res.z] for res in results.face_landmarks.landmark]).flatten() if results.face_landmarks else np.zeros(1404)\n",
    "    lefthand = np.array([[res.x, res.y, res.z] for res in results.left_hand_landmarks.landmark]).flatten() if results.left_hand_landmarks else np.zeros(63)\n",
    "    righthand = np.array([[res.x, res.y, res.z] for res in results.right_hand_landmarks.landmark]).flatten() if results.right_hand_landmarks else np.zeros(63)\n",
    "    return np.concatenate([pose, face, lefthand, righthand])"
   ]
  },
  {
   "cell_type": "code",
   "execution_count": 38,
   "id": "a53ba634",
   "metadata": {
    "ExecuteTime": {
     "end_time": "2021-11-30T19:20:17.516859Z",
     "start_time": "2021-11-30T19:20:17.504869Z"
    }
   },
   "outputs": [
    {
     "data": {
      "text/plain": [
       "1578"
      ]
     },
     "execution_count": 38,
     "metadata": {},
     "output_type": "execute_result"
    }
   ],
   "source": [
    "   48  + 1404 + 2 * 63\n",
    "# pose + face + 2 * hand"
   ]
  },
  {
   "cell_type": "markdown",
   "id": "de0eb63e",
   "metadata": {},
   "source": [
    " # For Training"
   ]
  },
  {
   "cell_type": "markdown",
   "id": "5f148a22",
   "metadata": {},
   "source": [
    " # Create Folders for Actions"
   ]
  },
  {
   "cell_type": "code",
   "execution_count": 14,
   "id": "4ca218da",
   "metadata": {
    "ExecuteTime": {
     "end_time": "2021-11-30T17:40:59.196017Z",
     "start_time": "2021-11-30T17:40:59.170041Z"
    }
   },
   "outputs": [],
   "source": [
    "DATA_PATH = os.path.join('Data')\n",
    "\n",
    "actions = np.array(['ds'])  # Words\n",
    "\n",
    "no_videos = 30\n",
    "\n",
    "video_length = 30  # Video is 30 frames in length\n",
    "\n",
    "for action in actions:\n",
    "    for video in range(no_videos):\n",
    "        try:\n",
    "            os.makedirs(os.path.join(DATA_PATH, action, str(video)))\n",
    "        except:\n",
    "            print(action, video)"
   ]
  },
  {
   "cell_type": "markdown",
   "id": "d53beede",
   "metadata": {},
   "source": [
    " # Create Data"
   ]
  },
  {
   "cell_type": "code",
   "execution_count": 48,
   "id": "56856761",
   "metadata": {
    "ExecuteTime": {
     "end_time": "2021-11-30T02:53:25.798351Z",
     "start_time": "2021-11-30T02:50:15.553690Z"
    }
   },
   "outputs": [],
   "source": [
    "cap = cv2.VideoCapture(0)\n",
    "with mp_holistic.Holistic() as holistic:\n",
    "   \n",
    "    for action in actions:\n",
    "        for video in range(no_videos):\n",
    "            for frame_num in range(video_length):       \n",
    "                ret, frame = cap.read()\n",
    "                frame = cv2.flip(frame,1) # Test\n",
    "                if ret == False:\n",
    "                    break\n",
    "\n",
    "                frame, results = mediapipe_detection(frame, holistic)\n",
    "                draw_landmarks(frame, results)\n",
    "                \n",
    "                # Wait between each video\n",
    "                if frame_num == 0:                    \n",
    "                    cv2.waitKey(2000)\n",
    "\n",
    "                cv2.putText(frame, f'Collecting frames for {action} video number {video+1}', (15,20),\\\n",
    "                            cv2.FONT_ITALIC, 0.5, (0,0,255), 2)\n",
    "                    \n",
    "                # Export Keypoints (Save as numpy)\n",
    "                keypoints = extract_keypoints(results)\n",
    "                npy_path = os.path.join(DATA_PATH, action, str(video), str(frame_num))\n",
    "                np.save(npy_path, keypoints)\n",
    "                \n",
    "                cv2.imshow('Esm3ni', frame)\n",
    "        \n",
    "                key = cv2.waitKey(1)\n",
    "                if key == 27 or key == ord('q'):\n",
    "                    break \n",
    "\n",
    "    cap.release()\n",
    "    cv2.destroyAllWindows()"
   ]
  },
  {
   "cell_type": "code",
   "execution_count": 46,
   "id": "99231431",
   "metadata": {
    "ExecuteTime": {
     "end_time": "2021-11-30T02:49:10.942027Z",
     "start_time": "2021-11-30T02:49:10.600632Z"
    }
   },
   "outputs": [],
   "source": [
    "cap.release()\n",
    "cv2.destroyAllWindows()"
   ]
  },
  {
   "cell_type": "markdown",
   "id": "0ab8cd28",
   "metadata": {},
   "source": [
    " # Works on DL Model"
   ]
  },
  {
   "cell_type": "code",
   "execution_count": 8,
   "id": "6227217b",
   "metadata": {
    "ExecuteTime": {
     "end_time": "2021-11-30T17:04:07.471615Z",
     "start_time": "2021-11-30T17:03:55.890523Z"
    }
   },
   "outputs": [],
   "source": [
    "from sklearn.model_selection import train_test_split\n",
    "from tensorflow.keras.utils import to_categorical"
   ]
  },
  {
   "cell_type": "code",
   "execution_count": 16,
   "id": "98dff5cb",
   "metadata": {
    "ExecuteTime": {
     "end_time": "2021-11-30T17:41:17.476561Z",
     "start_time": "2021-11-30T17:41:17.458565Z"
    }
   },
   "outputs": [
    {
     "data": {
      "text/plain": [
       "array(['excuse me', 'goodbye', 'hello', 'thanks'], dtype='<U9')"
      ]
     },
     "execution_count": 16,
     "metadata": {},
     "output_type": "execute_result"
    }
   ],
   "source": [
    "actions = np.array(os.listdir(DATA_PATH))\n",
    "actions"
   ]
  },
  {
   "cell_type": "code",
   "execution_count": 17,
   "id": "4624ba40",
   "metadata": {
    "ExecuteTime": {
     "end_time": "2021-11-30T17:41:18.204573Z",
     "start_time": "2021-11-30T17:41:18.181565Z"
    }
   },
   "outputs": [
    {
     "data": {
      "text/plain": [
       "{'excuse me': 0, 'goodbye': 1, 'hello': 2, 'thanks': 3}"
      ]
     },
     "execution_count": 17,
     "metadata": {},
     "output_type": "execute_result"
    }
   ],
   "source": [
    "action_map = {action: idd for idd, action in enumerate(actions)}\n",
    "action_map"
   ]
  },
  {
   "cell_type": "code",
   "execution_count": 18,
   "id": "08882d46",
   "metadata": {
    "ExecuteTime": {
     "end_time": "2021-11-30T17:41:23.586777Z",
     "start_time": "2021-11-30T17:41:19.338627Z"
    }
   },
   "outputs": [],
   "source": [
    "videos, labels = [], []\n",
    "for action in actions:\n",
    "    for video in range(no_videos):\n",
    "        temp = []\n",
    "        for frame_num in range(video_length):\n",
    "            res = np.load(os.path.join(DATA_PATH, action, str(video), f'{frame_num}.npy'))\n",
    "            temp.append(res)\n",
    "        videos.append(temp)\n",
    "        labels.append(action_map[action])"
   ]
  },
  {
   "cell_type": "code",
   "execution_count": 19,
   "id": "917c26be",
   "metadata": {
    "ExecuteTime": {
     "end_time": "2021-11-30T17:42:37.352968Z",
     "start_time": "2021-11-30T17:42:37.309992Z"
    }
   },
   "outputs": [],
   "source": [
    "x = np.array(videos)\n",
    "y = to_categorical(labels, dtype='int')"
   ]
  },
  {
   "cell_type": "code",
   "execution_count": 20,
   "id": "4b86fb0b",
   "metadata": {
    "ExecuteTime": {
     "end_time": "2021-11-30T17:42:40.557900Z",
     "start_time": "2021-11-30T17:42:40.532872Z"
    },
    "scrolled": true
   },
   "outputs": [],
   "source": [
    "x_train, x_test, y_train, y_test = train_test_split(x, y, test_size=0.2)"
   ]
  },
  {
   "cell_type": "code",
   "execution_count": 51,
   "id": "335cb8d6",
   "metadata": {
    "ExecuteTime": {
     "end_time": "2021-11-26T09:16:57.243358Z",
     "start_time": "2021-11-26T09:16:57.222359Z"
    }
   },
   "outputs": [
    {
     "data": {
      "text/plain": [
       "array([[1, 0, 0, 0],\n",
       "       [1, 0, 0, 0],\n",
       "       [1, 0, 0, 0],\n",
       "       [1, 0, 0, 0],\n",
       "       [1, 0, 0, 0],\n",
       "       [1, 0, 0, 0],\n",
       "       [1, 0, 0, 0],\n",
       "       [1, 0, 0, 0],\n",
       "       [1, 0, 0, 0],\n",
       "       [1, 0, 0, 0],\n",
       "       [1, 0, 0, 0],\n",
       "       [1, 0, 0, 0],\n",
       "       [1, 0, 0, 0],\n",
       "       [1, 0, 0, 0],\n",
       "       [1, 0, 0, 0],\n",
       "       [1, 0, 0, 0],\n",
       "       [1, 0, 0, 0],\n",
       "       [1, 0, 0, 0],\n",
       "       [1, 0, 0, 0],\n",
       "       [1, 0, 0, 0],\n",
       "       [1, 0, 0, 0],\n",
       "       [1, 0, 0, 0],\n",
       "       [1, 0, 0, 0],\n",
       "       [1, 0, 0, 0],\n",
       "       [1, 0, 0, 0],\n",
       "       [1, 0, 0, 0],\n",
       "       [1, 0, 0, 0],\n",
       "       [1, 0, 0, 0],\n",
       "       [1, 0, 0, 0],\n",
       "       [1, 0, 0, 0],\n",
       "       [0, 1, 0, 0],\n",
       "       [0, 1, 0, 0],\n",
       "       [0, 1, 0, 0],\n",
       "       [0, 1, 0, 0],\n",
       "       [0, 1, 0, 0],\n",
       "       [0, 1, 0, 0],\n",
       "       [0, 1, 0, 0],\n",
       "       [0, 1, 0, 0],\n",
       "       [0, 1, 0, 0],\n",
       "       [0, 1, 0, 0],\n",
       "       [0, 1, 0, 0],\n",
       "       [0, 1, 0, 0],\n",
       "       [0, 1, 0, 0],\n",
       "       [0, 1, 0, 0],\n",
       "       [0, 1, 0, 0],\n",
       "       [0, 1, 0, 0],\n",
       "       [0, 1, 0, 0],\n",
       "       [0, 1, 0, 0],\n",
       "       [0, 1, 0, 0],\n",
       "       [0, 1, 0, 0],\n",
       "       [0, 1, 0, 0],\n",
       "       [0, 1, 0, 0],\n",
       "       [0, 1, 0, 0],\n",
       "       [0, 1, 0, 0],\n",
       "       [0, 1, 0, 0],\n",
       "       [0, 1, 0, 0],\n",
       "       [0, 1, 0, 0],\n",
       "       [0, 1, 0, 0],\n",
       "       [0, 1, 0, 0],\n",
       "       [0, 1, 0, 0],\n",
       "       [0, 0, 1, 0],\n",
       "       [0, 0, 1, 0],\n",
       "       [0, 0, 1, 0],\n",
       "       [0, 0, 1, 0],\n",
       "       [0, 0, 1, 0],\n",
       "       [0, 0, 1, 0],\n",
       "       [0, 0, 1, 0],\n",
       "       [0, 0, 1, 0],\n",
       "       [0, 0, 1, 0],\n",
       "       [0, 0, 1, 0],\n",
       "       [0, 0, 1, 0],\n",
       "       [0, 0, 1, 0],\n",
       "       [0, 0, 1, 0],\n",
       "       [0, 0, 1, 0],\n",
       "       [0, 0, 1, 0],\n",
       "       [0, 0, 1, 0],\n",
       "       [0, 0, 1, 0],\n",
       "       [0, 0, 1, 0],\n",
       "       [0, 0, 1, 0],\n",
       "       [0, 0, 1, 0],\n",
       "       [0, 0, 1, 0],\n",
       "       [0, 0, 1, 0],\n",
       "       [0, 0, 1, 0],\n",
       "       [0, 0, 1, 0],\n",
       "       [0, 0, 1, 0],\n",
       "       [0, 0, 1, 0],\n",
       "       [0, 0, 1, 0],\n",
       "       [0, 0, 1, 0],\n",
       "       [0, 0, 1, 0],\n",
       "       [0, 0, 1, 0],\n",
       "       [0, 0, 0, 1],\n",
       "       [0, 0, 0, 1],\n",
       "       [0, 0, 0, 1],\n",
       "       [0, 0, 0, 1],\n",
       "       [0, 0, 0, 1],\n",
       "       [0, 0, 0, 1],\n",
       "       [0, 0, 0, 1],\n",
       "       [0, 0, 0, 1],\n",
       "       [0, 0, 0, 1],\n",
       "       [0, 0, 0, 1],\n",
       "       [0, 0, 0, 1],\n",
       "       [0, 0, 0, 1],\n",
       "       [0, 0, 0, 1],\n",
       "       [0, 0, 0, 1],\n",
       "       [0, 0, 0, 1],\n",
       "       [0, 0, 0, 1],\n",
       "       [0, 0, 0, 1],\n",
       "       [0, 0, 0, 1],\n",
       "       [0, 0, 0, 1],\n",
       "       [0, 0, 0, 1],\n",
       "       [0, 0, 0, 1],\n",
       "       [0, 0, 0, 1],\n",
       "       [0, 0, 0, 1],\n",
       "       [0, 0, 0, 1],\n",
       "       [0, 0, 0, 1],\n",
       "       [0, 0, 0, 1],\n",
       "       [0, 0, 0, 1],\n",
       "       [0, 0, 0, 1],\n",
       "       [0, 0, 0, 1],\n",
       "       [0, 0, 0, 1]])"
      ]
     },
     "execution_count": 51,
     "metadata": {},
     "output_type": "execute_result"
    }
   ],
   "source": [
    "y"
   ]
  },
  {
   "cell_type": "code",
   "execution_count": 63,
   "id": "fcb8381a",
   "metadata": {
    "ExecuteTime": {
     "end_time": "2021-11-30T02:56:29.185254Z",
     "start_time": "2021-11-30T02:56:29.174257Z"
    }
   },
   "outputs": [
    {
     "name": "stdout",
     "output_type": "stream",
     "text": [
      "(60, 30, 1578) (60, 2)\n"
     ]
    }
   ],
   "source": [
    "print(x.shape, y.shape)"
   ]
  },
  {
   "cell_type": "code",
   "execution_count": 272,
   "id": "e31efd17",
   "metadata": {
    "ExecuteTime": {
     "end_time": "2021-11-24T07:17:01.838307Z",
     "start_time": "2021-11-24T07:17:01.817302Z"
    },
    "scrolled": true
   },
   "outputs": [
    {
     "name": "stdout",
     "output_type": "stream",
     "text": [
      "(96, 30, 1662) (96, 4)\n",
      "(24, 30, 1662) (24, 4)\n"
     ]
    }
   ],
   "source": [
    "print(x_train.shape, y_train.shape)\n",
    "print(x_test.shape, y_test.shape)"
   ]
  },
  {
   "cell_type": "code",
   "execution_count": 273,
   "id": "d833e179",
   "metadata": {
    "ExecuteTime": {
     "end_time": "2021-11-24T07:17:30.663596Z",
     "start_time": "2021-11-24T07:17:30.641601Z"
    }
   },
   "outputs": [
    {
     "data": {
      "text/plain": [
       "384"
      ]
     },
     "execution_count": 273,
     "metadata": {},
     "output_type": "execute_result"
    }
   ],
   "source": [
    "96 * 4"
   ]
  },
  {
   "cell_type": "markdown",
   "id": "7bf7604a",
   "metadata": {},
   "source": [
    " # CNN"
   ]
  },
  {
   "cell_type": "code",
   "execution_count": 21,
   "id": "bf6658c7",
   "metadata": {
    "ExecuteTime": {
     "end_time": "2021-11-30T17:42:45.353155Z",
     "start_time": "2021-11-30T17:42:45.333144Z"
    }
   },
   "outputs": [],
   "source": [
    "from tensorflow.keras.models import Sequential\n",
    "from tensorflow.keras.layers import Dense, Flatten, Conv2D, MaxPooling2D"
   ]
  },
  {
   "cell_type": "code",
   "execution_count": 23,
   "id": "77c46e18",
   "metadata": {
    "ExecuteTime": {
     "end_time": "2021-11-30T17:42:52.236010Z",
     "start_time": "2021-11-30T17:42:51.473959Z"
    }
   },
   "outputs": [],
   "source": [
    "model = Sequential()\n",
    "model.add(Flatten(input_shape=(30, 1662)))\n",
    "model.add(Dense(1000, activation='relu'))\n",
    "model.add(Dense(500, activation='relu'))\n",
    "model.add(Dense(actions.shape[0], activation='softmax')) # sigmoid"
   ]
  },
  {
   "cell_type": "code",
   "execution_count": 24,
   "id": "5ffe3221",
   "metadata": {
    "ExecuteTime": {
     "end_time": "2021-11-30T17:42:57.923613Z",
     "start_time": "2021-11-30T17:42:57.904602Z"
    }
   },
   "outputs": [],
   "source": [
    "model.compile(optimizer='Adam', loss='categorical_crossentropy', metrics=['categorical_accuracy'])"
   ]
  },
  {
   "cell_type": "code",
   "execution_count": 25,
   "id": "9f976a40",
   "metadata": {
    "ExecuteTime": {
     "end_time": "2021-11-30T17:44:11.511685Z",
     "start_time": "2021-11-30T17:42:58.450320Z"
    },
    "scrolled": true
   },
   "outputs": [
    {
     "name": "stdout",
     "output_type": "stream",
     "text": [
      "Epoch 1/100\n",
      "3/3 [==============================] - 2s 227ms/step - loss: 41.8323 - categorical_accuracy: 0.2396\n",
      "Epoch 2/100\n",
      "3/3 [==============================] - 1s 240ms/step - loss: 32.0584 - categorical_accuracy: 0.2500\n",
      "Epoch 3/100\n",
      "3/3 [==============================] - 1s 252ms/step - loss: 18.1802 - categorical_accuracy: 0.2812\n",
      "Epoch 4/100\n",
      "3/3 [==============================] - 1s 249ms/step - loss: 17.4501 - categorical_accuracy: 0.2604\n",
      "Epoch 5/100\n",
      "3/3 [==============================] - 1s 246ms/step - loss: 7.4938 - categorical_accuracy: 0.3958\n",
      "Epoch 6/100\n",
      "3/3 [==============================] - 1s 247ms/step - loss: 5.3178 - categorical_accuracy: 0.4583\n",
      "Epoch 7/100\n",
      "3/3 [==============================] - 1s 232ms/step - loss: 2.8665 - categorical_accuracy: 0.6875\n",
      "Epoch 8/100\n",
      "3/3 [==============================] - 1s 224ms/step - loss: 2.7238 - categorical_accuracy: 0.5208\n",
      "Epoch 9/100\n",
      "3/3 [==============================] - 1s 234ms/step - loss: 1.0906 - categorical_accuracy: 0.6771\n",
      "Epoch 10/100\n",
      "3/3 [==============================] - 1s 236ms/step - loss: 0.9964 - categorical_accuracy: 0.7917\n",
      "Epoch 11/100\n",
      "3/3 [==============================] - 1s 245ms/step - loss: 0.7897 - categorical_accuracy: 0.8125\n",
      "Epoch 12/100\n",
      "3/3 [==============================] - 1s 221ms/step - loss: 0.2246 - categorical_accuracy: 0.9062\n",
      "Epoch 13/100\n",
      "3/3 [==============================] - 1s 226ms/step - loss: 0.3553 - categorical_accuracy: 0.8958\n",
      "Epoch 14/100\n",
      "3/3 [==============================] - 1s 226ms/step - loss: 0.3109 - categorical_accuracy: 0.9375\n",
      "Epoch 15/100\n",
      "3/3 [==============================] - 1s 222ms/step - loss: 0.3082 - categorical_accuracy: 0.8958\n",
      "Epoch 16/100\n",
      "3/3 [==============================] - 1s 228ms/step - loss: 0.3353 - categorical_accuracy: 0.8854\n",
      "Epoch 17/100\n",
      "3/3 [==============================] - 1s 226ms/step - loss: 0.3037 - categorical_accuracy: 0.8854\n",
      "Epoch 18/100\n",
      "3/3 [==============================] - 1s 228ms/step - loss: 0.2572 - categorical_accuracy: 0.9167\n",
      "Epoch 19/100\n",
      "3/3 [==============================] - 1s 223ms/step - loss: 0.1562 - categorical_accuracy: 0.9271\n",
      "Epoch 20/100\n",
      "3/3 [==============================] - 1s 249ms/step - loss: 0.1455 - categorical_accuracy: 0.9375\n",
      "Epoch 21/100\n",
      "3/3 [==============================] - 1s 224ms/step - loss: 0.1754 - categorical_accuracy: 0.9479\n",
      "Epoch 22/100\n",
      "3/3 [==============================] - 1s 229ms/step - loss: 0.1243 - categorical_accuracy: 0.9167\n",
      "Epoch 23/100\n",
      "3/3 [==============================] - 1s 223ms/step - loss: 0.1199 - categorical_accuracy: 0.9583\n",
      "Epoch 24/100\n",
      "3/3 [==============================] - 1s 223ms/step - loss: 0.1092 - categorical_accuracy: 0.9583\n",
      "Epoch 25/100\n",
      "3/3 [==============================] - 1s 244ms/step - loss: 0.0584 - categorical_accuracy: 0.9896\n",
      "Epoch 26/100\n",
      "3/3 [==============================] - 1s 230ms/step - loss: 0.1179 - categorical_accuracy: 0.9688\n",
      "Epoch 27/100\n",
      "3/3 [==============================] - 1s 225ms/step - loss: 0.0560 - categorical_accuracy: 0.9792\n",
      "Epoch 28/100\n",
      "3/3 [==============================] - 1s 222ms/step - loss: 0.0880 - categorical_accuracy: 0.9792\n",
      "Epoch 29/100\n",
      "3/3 [==============================] - 1s 229ms/step - loss: 0.0837 - categorical_accuracy: 0.9688\n",
      "Epoch 30/100\n",
      "3/3 [==============================] - 1s 230ms/step - loss: 0.0732 - categorical_accuracy: 0.9583\n",
      "Epoch 31/100\n",
      "3/3 [==============================] - 1s 233ms/step - loss: 0.0522 - categorical_accuracy: 0.9792\n",
      "Epoch 32/100\n",
      "3/3 [==============================] - 1s 227ms/step - loss: 0.0559 - categorical_accuracy: 0.9792\n",
      "Epoch 33/100\n",
      "3/3 [==============================] - 1s 226ms/step - loss: 0.0442 - categorical_accuracy: 0.9896\n",
      "Epoch 34/100\n",
      "3/3 [==============================] - 1s 226ms/step - loss: 0.0447 - categorical_accuracy: 0.9792\n",
      "Epoch 35/100\n",
      "3/3 [==============================] - 1s 230ms/step - loss: 0.0360 - categorical_accuracy: 0.9896\n",
      "Epoch 36/100\n",
      "3/3 [==============================] - 1s 237ms/step - loss: 0.0577 - categorical_accuracy: 0.9792\n",
      "Epoch 37/100\n",
      "3/3 [==============================] - 1s 226ms/step - loss: 0.0458 - categorical_accuracy: 0.9896\n",
      "Epoch 38/100\n",
      "3/3 [==============================] - 1s 247ms/step - loss: 0.0631 - categorical_accuracy: 0.9792\n",
      "Epoch 39/100\n",
      "3/3 [==============================] - 1s 243ms/step - loss: 0.0572 - categorical_accuracy: 0.9896\n",
      "Epoch 40/100\n",
      "3/3 [==============================] - 1s 229ms/step - loss: 0.0316 - categorical_accuracy: 0.9896\n",
      "Epoch 41/100\n",
      "3/3 [==============================] - 1s 223ms/step - loss: 0.0357 - categorical_accuracy: 1.0000\n",
      "Epoch 42/100\n",
      "3/3 [==============================] - 1s 231ms/step - loss: 0.0449 - categorical_accuracy: 0.9896\n",
      "Epoch 43/100\n",
      "3/3 [==============================] - 1s 226ms/step - loss: 0.0685 - categorical_accuracy: 0.9688\n",
      "Epoch 44/100\n",
      "3/3 [==============================] - 1s 225ms/step - loss: 0.0690 - categorical_accuracy: 0.9792\n",
      "Epoch 45/100\n",
      "3/3 [==============================] - 1s 228ms/step - loss: 0.0742 - categorical_accuracy: 0.9792\n",
      "Epoch 46/100\n",
      "3/3 [==============================] - 1s 218ms/step - loss: 0.0426 - categorical_accuracy: 0.9896\n",
      "Epoch 47/100\n",
      "3/3 [==============================] - 1s 227ms/step - loss: 0.0861 - categorical_accuracy: 0.9896\n",
      "Epoch 48/100\n",
      "3/3 [==============================] - 1s 223ms/step - loss: 0.0647 - categorical_accuracy: 0.9688\n",
      "Epoch 49/100\n",
      "3/3 [==============================] - 1s 227ms/step - loss: 0.0570 - categorical_accuracy: 0.9896\n",
      "Epoch 50/100\n",
      "3/3 [==============================] - 1s 225ms/step - loss: 0.0161 - categorical_accuracy: 1.0000\n",
      "Epoch 51/100\n",
      "3/3 [==============================] - 1s 230ms/step - loss: 0.0215 - categorical_accuracy: 1.0000\n",
      "Epoch 52/100\n",
      "3/3 [==============================] - 1s 225ms/step - loss: 0.0163 - categorical_accuracy: 1.0000\n",
      "Epoch 53/100\n",
      "3/3 [==============================] - 1s 234ms/step - loss: 0.0176 - categorical_accuracy: 1.0000\n",
      "Epoch 54/100\n",
      "3/3 [==============================] - 1s 224ms/step - loss: 0.0143 - categorical_accuracy: 1.0000\n",
      "Epoch 55/100\n",
      "3/3 [==============================] - 1s 234ms/step - loss: 0.0170 - categorical_accuracy: 0.9896\n",
      "Epoch 56/100\n",
      "3/3 [==============================] - 1s 257ms/step - loss: 0.0143 - categorical_accuracy: 1.0000\n",
      "Epoch 57/100\n",
      "3/3 [==============================] - 1s 228ms/step - loss: 0.0135 - categorical_accuracy: 1.0000\n",
      "Epoch 58/100\n",
      "3/3 [==============================] - 1s 230ms/step - loss: 0.0145 - categorical_accuracy: 1.0000\n",
      "Epoch 59/100\n",
      "3/3 [==============================] - 1s 234ms/step - loss: 0.0122 - categorical_accuracy: 1.0000\n",
      "Epoch 60/100\n",
      "3/3 [==============================] - 1s 226ms/step - loss: 0.0121 - categorical_accuracy: 1.0000\n",
      "Epoch 61/100\n",
      "3/3 [==============================] - 1s 226ms/step - loss: 0.0112 - categorical_accuracy: 1.0000\n",
      "Epoch 62/100\n",
      "3/3 [==============================] - 1s 230ms/step - loss: 0.0098 - categorical_accuracy: 1.0000\n",
      "Epoch 63/100\n",
      "3/3 [==============================] - 1s 225ms/step - loss: 0.0110 - categorical_accuracy: 1.0000\n",
      "Epoch 64/100\n",
      "3/3 [==============================] - 1s 225ms/step - loss: 0.0102 - categorical_accuracy: 1.0000\n",
      "Epoch 65/100\n",
      "3/3 [==============================] - 1s 236ms/step - loss: 0.0098 - categorical_accuracy: 1.0000\n",
      "Epoch 66/100\n",
      "3/3 [==============================] - 1s 241ms/step - loss: 0.0089 - categorical_accuracy: 1.0000\n",
      "Epoch 67/100\n",
      "3/3 [==============================] - 1s 251ms/step - loss: 0.0088 - categorical_accuracy: 1.0000\n",
      "Epoch 68/100\n",
      "3/3 [==============================] - 1s 245ms/step - loss: 0.0085 - categorical_accuracy: 1.0000\n",
      "Epoch 69/100\n",
      "3/3 [==============================] - 1s 241ms/step - loss: 0.0084 - categorical_accuracy: 1.0000\n",
      "Epoch 70/100\n",
      "3/3 [==============================] - 1s 242ms/step - loss: 0.0080 - categorical_accuracy: 1.0000\n",
      "Epoch 71/100\n",
      "3/3 [==============================] - 1s 238ms/step - loss: 0.0083 - categorical_accuracy: 1.0000\n",
      "Epoch 72/100\n",
      "3/3 [==============================] - 1s 239ms/step - loss: 0.0079 - categorical_accuracy: 1.0000\n",
      "Epoch 73/100\n",
      "3/3 [==============================] - 1s 239ms/step - loss: 0.0079 - categorical_accuracy: 1.0000\n",
      "Epoch 74/100\n"
     ]
    },
    {
     "name": "stdout",
     "output_type": "stream",
     "text": [
      "3/3 [==============================] - 1s 239ms/step - loss: 0.0071 - categorical_accuracy: 1.0000\n",
      "Epoch 75/100\n",
      "3/3 [==============================] - 1s 238ms/step - loss: 0.0078 - categorical_accuracy: 1.0000\n",
      "Epoch 76/100\n",
      "3/3 [==============================] - 1s 236ms/step - loss: 0.0069 - categorical_accuracy: 1.0000\n",
      "Epoch 77/100\n",
      "3/3 [==============================] - 1s 240ms/step - loss: 0.0072 - categorical_accuracy: 1.0000\n",
      "Epoch 78/100\n",
      "3/3 [==============================] - 1s 242ms/step - loss: 0.0065 - categorical_accuracy: 1.0000\n",
      "Epoch 79/100\n",
      "3/3 [==============================] - 1s 235ms/step - loss: 0.0071 - categorical_accuracy: 1.0000\n",
      "Epoch 80/100\n",
      "3/3 [==============================] - 1s 241ms/step - loss: 0.0063 - categorical_accuracy: 1.0000\n",
      "Epoch 81/100\n",
      "3/3 [==============================] - 1s 235ms/step - loss: 0.0064 - categorical_accuracy: 1.0000\n",
      "Epoch 82/100\n",
      "3/3 [==============================] - 1s 242ms/step - loss: 0.0063 - categorical_accuracy: 1.0000\n",
      "Epoch 83/100\n",
      "3/3 [==============================] - 1s 237ms/step - loss: 0.0062 - categorical_accuracy: 1.0000\n",
      "Epoch 84/100\n",
      "3/3 [==============================] - 1s 236ms/step - loss: 0.0061 - categorical_accuracy: 1.0000\n",
      "Epoch 85/100\n",
      "3/3 [==============================] - 1s 252ms/step - loss: 0.0062 - categorical_accuracy: 1.0000\n",
      "Epoch 86/100\n",
      "3/3 [==============================] - 1s 249ms/step - loss: 0.0057 - categorical_accuracy: 1.0000\n",
      "Epoch 87/100\n",
      "3/3 [==============================] - 1s 246ms/step - loss: 0.0059 - categorical_accuracy: 1.0000\n",
      "Epoch 88/100\n",
      "3/3 [==============================] - 1s 235ms/step - loss: 0.0061 - categorical_accuracy: 1.0000\n",
      "Epoch 89/100\n",
      "3/3 [==============================] - 1s 236ms/step - loss: 0.0065 - categorical_accuracy: 1.0000\n",
      "Epoch 90/100\n",
      "3/3 [==============================] - 1s 234ms/step - loss: 0.0059 - categorical_accuracy: 1.0000\n",
      "Epoch 91/100\n",
      "3/3 [==============================] - 1s 237ms/step - loss: 0.0063 - categorical_accuracy: 1.0000\n",
      "Epoch 92/100\n",
      "3/3 [==============================] - 1s 233ms/step - loss: 0.0059 - categorical_accuracy: 1.0000\n",
      "Epoch 93/100\n",
      "3/3 [==============================] - 1s 236ms/step - loss: 0.0059 - categorical_accuracy: 1.0000\n",
      "Epoch 94/100\n",
      "3/3 [==============================] - 1s 234ms/step - loss: 0.0046 - categorical_accuracy: 1.0000\n",
      "Epoch 95/100\n",
      "3/3 [==============================] - 1s 241ms/step - loss: 0.0060 - categorical_accuracy: 1.0000\n",
      "Epoch 96/100\n",
      "3/3 [==============================] - 1s 236ms/step - loss: 0.0049 - categorical_accuracy: 1.0000\n",
      "Epoch 97/100\n",
      "3/3 [==============================] - 1s 237ms/step - loss: 0.0049 - categorical_accuracy: 1.0000\n",
      "Epoch 98/100\n",
      "3/3 [==============================] - 1s 235ms/step - loss: 0.0047 - categorical_accuracy: 1.0000\n",
      "Epoch 99/100\n",
      "3/3 [==============================] - 1s 239ms/step - loss: 0.0046 - categorical_accuracy: 1.0000\n",
      "Epoch 100/100\n",
      "3/3 [==============================] - 1s 238ms/step - loss: 0.0044 - categorical_accuracy: 1.0000\n"
     ]
    },
    {
     "data": {
      "text/plain": [
       "<keras.callbacks.History at 0x2b19fd1aa60>"
      ]
     },
     "execution_count": 25,
     "metadata": {},
     "output_type": "execute_result"
    }
   ],
   "source": [
    "model.fit(x_train, y_train, epochs=100) #, callbacks=[tb_callback])"
   ]
  },
  {
   "cell_type": "code",
   "execution_count": 18,
   "id": "ef6ee961",
   "metadata": {
    "ExecuteTime": {
     "end_time": "2021-11-29T21:56:06.298818Z",
     "start_time": "2021-11-29T21:55:58.296818Z"
    }
   },
   "outputs": [
    {
     "name": "stdout",
     "output_type": "stream",
     "text": [
      "1/1 [==============================] - 3s 3s/step - loss: 0.4381 - categorical_accuracy: 0.8750\n",
      "[0.4381135404109955, 0.875]\n",
      "3/3 [==============================] - 5s 110ms/step - loss: 0.1985 - categorical_accuracy: 0.9896\n"
     ]
    },
    {
     "data": {
      "text/plain": [
       "[0.1985018253326416, 0.9895833134651184]"
      ]
     },
     "execution_count": 18,
     "metadata": {},
     "output_type": "execute_result"
    }
   ],
   "source": [
    "print(model.evaluate(x_test, y_test))\n",
    "model.evaluate(x_train, y_train)"
   ]
  },
  {
   "cell_type": "markdown",
   "id": "adb2d994",
   "metadata": {},
   "source": [
    " # Test in Real Time"
   ]
  },
  {
   "cell_type": "code",
   "execution_count": 37,
   "id": "5a9c3b1b",
   "metadata": {
    "ExecuteTime": {
     "end_time": "2021-11-30T18:39:44.601414Z",
     "start_time": "2021-11-30T18:39:09.042864Z"
    },
    "scrolled": true
   },
   "outputs": [
    {
     "name": "stdout",
     "output_type": "stream",
     "text": [
      "hello\n",
      "hello\n",
      "hello\n",
      "hello\n",
      "hello\n",
      "hello\n",
      "hello\n",
      "hello\n",
      "hello\n",
      "hello\n",
      "hello\n",
      "hello\n",
      "hello\n",
      "hello\n",
      "hello\n",
      "hello\n",
      "hello\n",
      "hello\n",
      "hello\n",
      "hello\n",
      "hello\n",
      "hello\n",
      "hello\n",
      "hello\n",
      "hello\n",
      "hello\n",
      "hello\n",
      "hello\n",
      "hello\n",
      "goodbye\n",
      "goodbye\n",
      "goodbye\n",
      "goodbye\n",
      "goodbye\n",
      "goodbye\n",
      "goodbye\n",
      "thanks\n",
      "thanks\n",
      "thanks\n",
      "thanks\n",
      "thanks\n",
      "thanks\n",
      "thanks\n",
      "thanks\n",
      "thanks\n",
      "thanks\n",
      "thanks\n",
      "thanks\n",
      "thanks\n",
      "thanks\n",
      "thanks\n",
      "thanks\n",
      "thanks\n",
      "thanks\n",
      "thanks\n",
      "thanks\n",
      "thanks\n",
      "thanks\n",
      "thanks\n",
      "thanks\n",
      "thanks\n",
      "thanks\n",
      "thanks\n",
      "thanks\n",
      "thanks\n",
      "thanks\n",
      "thanks\n",
      "thanks\n",
      "thanks\n",
      "thanks\n",
      "thanks\n",
      "thanks\n",
      "thanks\n",
      "thanks\n",
      "thanks\n",
      "thanks\n",
      "thanks\n",
      "thanks\n",
      "thanks\n",
      "thanks\n",
      "thanks\n",
      "excuse me\n",
      "thanks\n",
      "excuse me\n",
      "excuse me\n",
      "excuse me\n",
      "excuse me\n",
      "excuse me\n",
      "excuse me\n",
      "excuse me\n",
      "excuse me\n",
      "excuse me\n",
      "excuse me\n",
      "excuse me\n",
      "excuse me\n",
      "excuse me\n",
      "excuse me\n",
      "excuse me\n",
      "excuse me\n",
      "excuse me\n",
      "excuse me\n",
      "goodbye\n",
      "goodbye\n",
      "goodbye\n",
      "goodbye\n",
      "goodbye\n",
      "goodbye\n",
      "goodbye\n",
      "goodbye\n",
      "goodbye\n",
      "goodbye\n",
      "goodbye\n",
      "goodbye\n",
      "goodbye\n",
      "goodbye\n",
      "goodbye\n",
      "goodbye\n",
      "goodbye\n",
      "goodbye\n",
      "hello\n",
      "goodbye\n",
      "hello\n",
      "goodbye\n",
      "goodbye\n",
      "goodbye\n",
      "goodbye\n",
      "hello\n",
      "hello\n",
      "hello\n",
      "hello\n",
      "hello\n"
     ]
    }
   ],
   "source": [
    "video = []\n",
    "sentence = []\n",
    "threshold = 0.4\n",
    "\n",
    "cap = cv2.VideoCapture(0)\n",
    "with mp_holistic.Holistic() as holistic:\n",
    "    while True:\n",
    "        ret, frame = cap.read()\n",
    "        frame = cv2.flip(frame,1)\n",
    "        if ret == False:\n",
    "            break\n",
    "\n",
    "        frame, results = mediapipe_detection(frame, holistic)\n",
    "#         draw_landmarks(frame, results)\n",
    "        \n",
    "        keypoints = extract_keypoints(results)\n",
    "        video.append(keypoints)\n",
    "        video = video[-30:]\n",
    "        \n",
    "        if len(video) == 30:\n",
    "            res = model.predict(np.expand_dims(video, axis=0))[0]\n",
    "\n",
    "        if res[np.argmax(res)] > threshold:\n",
    "            if len(sentence) == 0:\n",
    "                sentence.append(actions[np.argmax(res)])\n",
    "                \n",
    "            if actions[np.argmax(res)] != sentence[-1]:\n",
    "                sentence.append(actions[np.argmax(res)])\n",
    "                \n",
    "        if len(sentence) > 5:\n",
    "            sentence = sentence[-5:]\n",
    "            \n",
    "        cv2.rectangle(frame, (0,0), (640,40), (255, 255, 255), -1)\n",
    "        cv2.putText(frame, ' '.join(sentence), (3,30), cv2.FONT_ITALIC, 1, (0,0,0), 2, cv2.LINE_AA)\n",
    "        print(sentence[-1])\n",
    "        \n",
    "        cv2.imshow('OpenCV', frame)\n",
    "        key = cv2.waitKey(1)\n",
    "        if key == 27:\n",
    "            break\n",
    "\n",
    "    cap.release()\n",
    "    cv2.destroyAllWindows()"
   ]
  },
  {
   "cell_type": "code",
   "execution_count": 27,
   "id": "57a4d92c",
   "metadata": {
    "ExecuteTime": {
     "end_time": "2021-11-30T17:44:31.544335Z",
     "start_time": "2021-11-30T17:44:31.239047Z"
    }
   },
   "outputs": [],
   "source": [
    "cap.release()\n",
    "cv2.destroyAllWindows()"
   ]
  },
  {
   "cell_type": "code",
   "execution_count": 36,
   "id": "ae9736e1",
   "metadata": {
    "ExecuteTime": {
     "end_time": "2021-11-30T18:38:30.387027Z",
     "start_time": "2021-11-30T18:38:30.379026Z"
    }
   },
   "outputs": [
    {
     "data": {
      "text/plain": [
       "['hello',\n",
       " 'goodbye',\n",
       " 'thanks',\n",
       " 'excuse me',\n",
       " 'goodbye',\n",
       " 'hello',\n",
       " 'goodbye',\n",
       " 'hello',\n",
       " 'goodbye',\n",
       " 'hello',\n",
       " 'goodbye',\n",
       " 'hello',\n",
       " 'goodbye',\n",
       " 'hello']"
      ]
     },
     "execution_count": 36,
     "metadata": {},
     "output_type": "execute_result"
    }
   ],
   "source": [
    "sentence"
   ]
  },
  {
   "cell_type": "markdown",
   "id": "85da4ee2",
   "metadata": {},
   "source": [
    " # Save & Load Model"
   ]
  },
  {
   "cell_type": "code",
   "execution_count": 174,
   "id": "fe95f3b6",
   "metadata": {
    "ExecuteTime": {
     "end_time": "2021-11-24T23:59:26.664419Z",
     "start_time": "2021-11-24T23:59:26.196345Z"
    }
   },
   "outputs": [],
   "source": [
    "model.save('test.h5')"
   ]
  },
  {
   "cell_type": "code",
   "execution_count": 176,
   "id": "3a2afb3d",
   "metadata": {
    "ExecuteTime": {
     "end_time": "2021-11-25T00:01:01.370507Z",
     "start_time": "2021-11-25T00:00:58.285443Z"
    }
   },
   "outputs": [
    {
     "name": "stdout",
     "output_type": "stream",
     "text": [
      "1/1 [==============================] - 2s 2s/step - loss: 9.9341e-09 - categorical_accuracy: 1.0000\n"
     ]
    }
   ],
   "source": [
    "from keras.models import load_model\n",
    "loaded_model = load_model('test.h5')\n",
    "loss, accuracy = loaded_model.evaluate(x_test, y_test)"
   ]
  },
  {
   "cell_type": "code",
   "execution_count": null,
   "id": "43a58014",
   "metadata": {},
   "outputs": [],
   "source": []
  }
 ],
 "metadata": {
  "kernelspec": {
   "display_name": "Python 3 (ipykernel)",
   "language": "python",
   "name": "python3"
  },
  "language_info": {
   "codemirror_mode": {
    "name": "ipython",
    "version": 3
   },
   "file_extension": ".py",
   "mimetype": "text/x-python",
   "name": "python",
   "nbconvert_exporter": "python",
   "pygments_lexer": "ipython3",
   "version": "3.9.7"
  }
 },
 "nbformat": 4,
 "nbformat_minor": 5
}
